{
 "cells": [
  {
   "cell_type": "code",
   "execution_count": null,
   "metadata": {},
   "outputs": [],
   "source": [
    "import torch\n",
    "import torch.nn as nn\n",
    "import matplotlib.pyplot as plt\n",
    "import numpy as np\n",
    "from tqdm.notebook import tqdm\n",
    "from gromo.tools import *\n",
    "import tensorly as tl\n",
    "tl.set_backend('pytorch')"
   ]
  },
  {
   "cell_type": "code",
   "execution_count": null,
   "metadata": {},
   "outputs": [],
   "source": [
    "def assert_close(a, b, msg=\"\", atol=1e-8, rtol=1e-5):\n",
    "    assert a.shape == b.shape, f\"{msg} (shape mismatch : {a.shape} != {b.shape})\"\n",
    "    assert torch.allclose(a, b, atol=atol, rtol=rtol), f\"{msg} (||.||_inf = {torch.max(torch.abs(a - b)):2e}, ||.||_0 = {torch.sum(torch.abs(a - b) > 1e-6) / a.numel():2e} %, ||.||_2 = {torch.norm(a - b) / torch.norm(b):2e})\"\n",
    "\n",
    "\n",
    "def torch_scalar_product(a, b):\n",
    "    assert a.shape == b.shape, f\"shape mismatch : {a.shape} != {b.shape}\"\n",
    "    assert_close(torch.sum(a * b), torch.trace(a.T @ b), atol=1e-6, msg=\"torch_scalar_product\")\n",
    "    return torch.trace(a.T @ b)"
   ]
  },
  {
   "cell_type": "markdown",
   "metadata": {},
   "source": [
    "# Lemma\n",
    "\n",
    "Conv o AvgPool = AvgPool o Conv"
   ]
  },
  {
   "cell_type": "code",
   "execution_count": null,
   "metadata": {},
   "outputs": [],
   "source": [
    "# Hyperparameters\n",
    "cin = 4\n",
    "cout = 5\n",
    "ĥd = 3\n",
    "wd = 2\n",
    "h = 22\n",
    "w = 31\n",
    "px = 5\n",
    "py = 6\n",
    "n = 10\n",
    "\n",
    "# Create a random image\n",
    "x = torch.randn(n, cin, h, w)\n",
    "\n",
    "# Create the layers\n",
    "conv = nn.Conv2d(cin, cout, wd)\n",
    "pool = nn.AvgPool2d((px, py), stride=(1, 1))\n",
    "\n",
    "# Forward pass\n",
    "y1 = conv(pool(x))\n",
    "y2 = pool(conv(x))\n",
    "\n",
    "# Check the shapes\n",
    "assert y1.shape == y2.shape, f\"Shapes are different: {y1.shape=} != {y2.shape=}\"\n",
    "\n",
    "assert_close(y1, y2, \"There is no commutativity\", atol=1e-6)"
   ]
  },
  {
   "cell_type": "markdown",
   "metadata": {},
   "source": [
    "# Conv to conv"
   ]
  },
  {
   "cell_type": "markdown",
   "metadata": {},
   "source": [
    "## Define the data"
   ]
  },
  {
   "cell_type": "code",
   "execution_count": null,
   "metadata": {},
   "outputs": [],
   "source": [
    "# Hyperparameters\n",
    "c0 = 5\n",
    "c1 = 6\n",
    "c2 = 7\n",
    "\n",
    "hd1 = 3\n",
    "wd1 = 5\n",
    "hd2 = 5\n",
    "wd2 = 3\n",
    "\n",
    "h0 = 9\n",
    "w0 = 10\n",
    "\n",
    "# h0 = 21\n",
    "# w0 = 30\n",
    "\n",
    "n = 23\n",
    "\n",
    "# Create a random image\n",
    "\n",
    "x = torch.randn(n, c0, h0, w0)\n",
    "pre_conv = nn.Conv2d(c0, c0, (3, 3), padding=1, bias=False)\n",
    "x = pre_conv(x) # add unisotropicity\n",
    "\n",
    "# Create the layers\n",
    "conv1 = nn.Conv2d(c0, c1, (hd1, wd1), bias=False)\n",
    "assert conv1.weight.shape == (c1, c0, hd1, wd1), f\"Wrong shape: {conv1.weight.shape=}\"\n",
    "\n",
    "conv1b = nn.Conv2d(c0, c1, (hd1, wd1), bias=True)\n",
    "assert conv1b.weight.shape == (c1, c0, hd1, wd1), f\"Wrong shape: {conv1b.weight.shape=}\"\n",
    "assert conv1b.bias.shape == (c1,), f\"Wrong shape: {conv1b.bias.shape=}\"\n",
    "\n",
    "conv2 = nn.Conv2d(c1, c2, (hd2, wd2), bias=False)\n",
    "conv2b = nn.Conv2d(c1, c2, (hd2, wd2), bias=True)\n",
    "\n",
    "conv_natural_gradient = nn.Conv2d(c1, c2, (hd2, wd2), bias=False)\n",
    "convb_natural_gradient = nn.Conv2d(c1, c2, (hd2, wd2), bias=True)\n",
    "\n",
    "# Forward pass\n",
    "print(f\"Start with {x.shape=}\")\n",
    "print(f\"Apply {conv1=} (output shape: {conv1(x).shape})\")\n",
    "print(f\"Apply {conv2=} (output shape: {conv2(conv1(x)).shape})\")\n",
    "\n",
    "h1, w1 = conv1(x).shape[-2:]\n",
    "h2, w2 = conv2(conv1(x)).shape[-2:]\n",
    "\n",
    "y_inter_th = conv1(x)\n",
    "yb_inter_th = conv1b(x)\n",
    "y_th = conv2(conv1(x))\n",
    "yb_th = conv2b(conv1b(x))\n",
    "\n",
    "y_goal = torch.rand_like(y_th)\n",
    "y_goal_inter = torch.rand_like(y_inter_th)\n",
    "\n",
    "error_th = torch.sum((y_goal - y_th) ** 2)\n",
    "errorb_th = torch.sum((y_goal - yb_th) ** 2)"
   ]
  },
  {
   "cell_type": "code",
   "execution_count": null,
   "metadata": {},
   "outputs": [],
   "source": [
    "def assert_shape(tensor: torch.Tensor, shape: str) -> None:\n",
    "    shape_def = {\n",
    "        \"n\": n,\n",
    "        \"dh\": hd1,\n",
    "        \"dh[+1]\": hd2,\n",
    "        \"dw\": wd1,\n",
    "        \"dw[+1]\": wd2,\n",
    "        \"h\": h1,\n",
    "        \"h[+1]\": h2,\n",
    "        \"w\": w1,\n",
    "        \"w[+1]\": w2,\n",
    "        \"c[-1]\": c0,\n",
    "        \"c\": c1, \n",
    "        \"c[+1]\": c2,\n",
    "        \"1\": 1\n",
    "        }\n",
    "    txt = shape.lower().split(\",\")\n",
    "    assert len(tensor.shape) == len(txt), f\"Order mismatch : (real) {len(tensor.shape)} != {len(txt)} (theory)\"\n",
    "    for i, (real, theory) in enumerate(zip(tensor.shape, txt)):\n",
    "        terms = theory.split(\" + \")\n",
    "        total_theory_value = 0\n",
    "        for term in terms:\n",
    "            term = term.strip()\n",
    "            term = term.replace(\"  \", \" \") \n",
    "            products = term.split(\" \")\n",
    "            theory_value = 1\n",
    "            for prod in products:\n",
    "                if prod in shape_def:\n",
    "                    theory_value *= shape_def[prod]\n",
    "                else:\n",
    "                    raise ValueError(f\"Unknown symbol '{prod}'\")\n",
    "            total_theory_value += theory_value\n",
    "        assert real == total_theory_value, f\"Shape mismatch on index {i} : {theory} ({total_theory_value}) is not matching {real}\""
   ]
  },
  {
   "cell_type": "markdown",
   "metadata": {},
   "source": [
    "## First Convolution"
   ]
  },
  {
   "cell_type": "code",
   "execution_count": null,
   "metadata": {},
   "outputs": [],
   "source": [
    "y_goal_flat = y_goal.flatten(start_dim=-2)\n",
    "assert_shape(y_goal_flat, \"n, C[+1], H[+1] W[+1]\")\n",
    "\n",
    "y_goal_mat = y_goal_flat.permute(0, 2, 1).flatten(end_dim=1)\n",
    "assert_shape(y_goal_mat, \"n H[+1] W[+1], C[+1]\")"
   ]
  },
  {
   "cell_type": "markdown",
   "metadata": {},
   "source": [
    "$V_F \\in (n H[+1] W[+1], C[+1])$"
   ]
  },
  {
   "cell_type": "code",
   "execution_count": null,
   "metadata": {},
   "outputs": [],
   "source": [
    "theta_2_flat = conv2.weight.view(c2, -1)\n",
    "assert_shape(theta_2_flat, \"C[+1], C dh[+1] dw[+1]\")\n",
    "\n",
    "theta_b_2_flat = conv2b.weight.view(c2, -1)\n",
    "theta_b_2_flat = torch.cat([theta_b_2_flat, conv2b.bias[:, None]], dim=1)\n",
    "\n",
    "assert_shape(theta_b_2_flat, \"C[+1], C dh[+1] dw[+1] + 1\")"
   ]
  },
  {
   "cell_type": "markdown",
   "metadata": {},
   "source": [
    "$dW_F \\in (C[+1], C d[+1] d[+1])$ (with bias: $dW_F \\in (C[+1], C d[+1] d[+1] + 1)$)"
   ]
  },
  {
   "cell_type": "code",
   "execution_count": null,
   "metadata": {},
   "outputs": [],
   "source": [
    "bc_inter = torch.nn.functional.unfold(y_inter_th, (hd2, wd2), padding=conv2.padding, stride=conv2.stride, dilation=conv2.dilation)\n",
    "assert_shape(bc_inter, \"n, C dh[+1] dw[+1], H[+1] W[+1]\")\n",
    "\n",
    "bc_b_inter = torch.nn.functional.unfold(yb_inter_th, (hd2, wd2), padding=conv2b.padding, stride=conv2b.stride, dilation=conv2b.dilation)\n",
    "bc_b_inter = torch.cat([bc_b_inter, torch.ones_like(bc_b_inter[:, :1])], dim=1)\n",
    "assert_shape(bc_b_inter, \"n, C dh[+1] dw[+1] + 1, H[+1] W[+1]\")\n",
    "\n",
    "bc_inter_flat = bc_inter.permute(0, 2, 1).flatten(end_dim=1)\n",
    "assert_shape(bc_inter_flat, \"n H[+1] W[+1], C dh[+1] dw[+1]\")\n",
    "\n",
    "bc_b_inter_flat = bc_b_inter.permute(0, 2, 1).flatten(end_dim=1)\n",
    "assert_shape(bc_b_inter_flat, \"n H[+1] W[+1], C dh[+1] dw[+1] + 1\")"
   ]
  },
  {
   "cell_type": "markdown",
   "metadata": {},
   "source": [
    "$B^c \\in (n, C d[+1] d[+1], H[+1]W[+1])$ (with bias: $B^c \\in (n, C d[+1] d[+1] + 1, H[+1]W[+1])$)\n",
    "\n",
    "$B^c_F \\in (n H[+1]W[+1], C d[+1] d[+1])$ (with bias: $B^c_F \\in (n H[+1]W[+1], C d[+1] d[+1] + 1)$)"
   ]
  },
  {
   "cell_type": "code",
   "execution_count": null,
   "metadata": {},
   "outputs": [],
   "source": [
    "y_inter_matmul_paper = bc_inter_flat @ theta_2_flat.T\n",
    "assert_shape(y_inter_matmul_paper, \"n H[+1] W[+1], C[+1]\")\n",
    "\n",
    "y_inter_matmul_paper_b = bc_b_inter_flat @ theta_b_2_flat.T\n",
    "assert_shape(y_inter_matmul_paper_b, \"n H[+1] W[+1], C[+1]\")\n",
    "\n",
    "\n",
    "assert_close(y_inter_matmul_paper.reshape(n, h2, w2, c2).permute(0, 3, 1, 2), y_th, atol=1e-6)\n",
    "\n",
    "assert_close(y_inter_matmul_paper_b.reshape(n, h2, w2, c2).permute(0, 3, 1, 2), yb_th, atol=1e-6)"
   ]
  },
  {
   "cell_type": "markdown",
   "metadata": {},
   "source": [
    "$Conv_{dW}(B) \\equiv B^c_F dW_F^T$"
   ]
  },
  {
   "cell_type": "code",
   "execution_count": null,
   "metadata": {},
   "outputs": [],
   "source": [
    "y_inter_manual_einsum = torch.einsum(\"iam, ca -> icm\", bc_inter, theta_2_flat).reshape(n, c2, h2, w2)\n",
    "y_inter_manual_matmul = (bc_inter.permute(0, 2, 1) @ theta_2_flat.T).permute(0, 2, 1).reshape(n, c2, h2, w2)\n",
    "y_inter_manual_mode_dot = tl.tenalg.mode_dot(bc_inter, theta_2_flat, mode=1).reshape(n, c2, h2, w2)\n",
    "\n",
    "assert_close(y_inter_manual_einsum, y_th, atol=1e-6)\n",
    "assert_close(y_inter_manual_matmul, y_th, atol=1e-7)\n",
    "assert_close(y_inter_manual_mode_dot, y_th, atol=1e-7)"
   ]
  },
  {
   "cell_type": "markdown",
   "metadata": {},
   "source": [
    "$Conv_{\\Theta_1}(B) \\equiv (B^c)^{iam} \\Theta_1^{ca} = (B^c) \\times_1 \\Theta_1 \\equiv (B^c_F) \\times \\Theta_1^T$"
   ]
  },
  {
   "cell_type": "markdown",
   "metadata": {},
   "source": [
    "### Optimal update"
   ]
  },
  {
   "cell_type": "code",
   "execution_count": null,
   "metadata": {},
   "outputs": [],
   "source": [
    "s_inter_paper = bc_inter_flat.T @ bc_inter_flat\n",
    "assert_shape(s_inter_paper, \"C dh[+1] dw[+1], C dh[+1] dw[+1]\")\n",
    "\n",
    "s_b_inter_paper = bc_b_inter_flat.T @ bc_b_inter_flat\n",
    "assert_shape(s_b_inter_paper, \"C dh[+1] dw[+1] + 1, C dh[+1] dw[+1] + 1\")\n",
    "\n",
    "m_inter_paper = bc_inter_flat.T @ y_goal_mat\n",
    "assert_shape(m_inter_paper, \"C dh[+1] dw[+1], C[+1]\")\n",
    "\n",
    "m_b_inter_paper = bc_b_inter_flat.T @ y_goal_mat\n",
    "assert_shape(m_b_inter_paper, \"C dh[+1] dw[+1] + 1, C[+1]\")"
   ]
  },
  {
   "cell_type": "markdown",
   "metadata": {},
   "source": [
    "$S := (B^c_F)^T B^c_F \\in (C d[+1]d[+1], C d[+1]d[+1])$ (with bias: $S \\in (C d[+1]d[1] + 1, C d[+1]d[1] + 1)$)\n",
    "\n",
    "$M := (B^c_F)^T V_F \\in (C d[+1]d[+1], C[+1])$ (with bias: $M \\in (C d[+1]d[1] + 1, C[+1])$)"
   ]
  },
  {
   "cell_type": "code",
   "execution_count": null,
   "metadata": {},
   "outputs": [],
   "source": [
    "s_inter_einsum = torch.einsum(\"iam, ibm -> ab\", bc_inter, bc_inter)\n",
    "assert_close(s_inter_einsum, s_inter_paper, atol=1e-6)\n",
    "\n",
    "m_inter_einsum = torch.einsum(\"iam, icm -> ac\", bc_inter, y_goal_flat)\n",
    "assert_close(m_inter_einsum, m_inter_paper, atol=1e-6)"
   ]
  },
  {
   "cell_type": "code",
   "execution_count": null,
   "metadata": {},
   "outputs": [],
   "source": [
    "delta_star = torch.linalg.solve(s_inter_paper, m_inter_paper).T\n",
    "assert_shape(delta_star, \"C[+1], C dh[+1] dw[+1]\")\n",
    "\n",
    "delta_star_b = torch.linalg.solve(s_b_inter_paper, m_b_inter_paper).T\n",
    "assert_shape(delta_star_b, \"C[+1], C dh[+1] dw[+1] + 1\")"
   ]
  },
  {
   "cell_type": "markdown",
   "metadata": {},
   "source": [
    "## Tensor T"
   ]
  },
  {
   "cell_type": "code",
   "execution_count": null,
   "metadata": {},
   "outputs": [],
   "source": [
    "t = compute_mask_tensor_t((h1, w1), conv2)\n",
    "assert_shape(t, \"H[+1] W[+1], dh[+1] dw[+1], H W\")\n",
    "\n",
    "tt = torch.einsum(\"mbl, mdk -> bldk\", t, t)\n",
    "assert_shape(tt, \"dh[+1] dw[+1], H W, dh[+1] dw[+1], H W\")"
   ]
  },
  {
   "cell_type": "markdown",
   "metadata": {},
   "source": [
    "$T \\in (H[+1]W[+1], d[+1]d[+1], HW)$\n",
    "\n",
    "$(TT)^{bldk} = T^{mbl} T_{mdk} \\in (d[+1]d[+1], HW, d[+1]d[+1], HW)$"
   ]
  },
  {
   "cell_type": "code",
   "execution_count": null,
   "metadata": {},
   "outputs": [],
   "source": [
    "y_inter_th_flat = y_inter_th.flatten(start_dim=-2)\n",
    "assert_shape(y_inter_th_flat, \"n, C, H W\")\n",
    "\n",
    "theta_2_flat_space = conv2.weight.flatten(start_dim=2)\n",
    "assert_shape(theta_2_flat_space, \"C[+1], C, dh[+1] dw[+1]\")\n",
    "\n",
    "y_t_computed = torch.einsum(\"cds, jsp, idp -> icj\", theta_2_flat_space, t, y_inter_th_flat)\n",
    "assert_shape(y_t_computed, \"n, C[+1], H[+1] W[+1]\")\n",
    "\n",
    "assert_close(y_t_computed, y_th.flatten(start_dim=-2), atol=1e-6)"
   ]
  },
  {
   "cell_type": "markdown",
   "metadata": {},
   "source": [
    "## Double Convolution"
   ]
  },
  {
   "cell_type": "code",
   "execution_count": null,
   "metadata": {},
   "outputs": [],
   "source": [
    "bc = torch.nn.functional.unfold(x, (hd1, wd1), padding=conv1.padding, stride=conv1.stride, dilation=conv1.dilation)\n",
    "assert_shape(bc, \"n, C[-1] dh dw, H W\")\n",
    "\n",
    "bc_b = torch.nn.functional.unfold(x, (hd1, wd1), padding=conv1b.padding, stride=conv1b.stride, dilation=conv1b.dilation)\n",
    "assert_shape(bc_b, \"n, C[-1] dh dw, H W\")\n",
    "\n",
    "assert_shape(bc_b[:, :1], \"n, 1, H W\")\n",
    "bc_b = torch.cat([bc_b, torch.ones_like(bc_b[:, :1])], dim=1)\n",
    "assert_shape(bc_b, \"n, C[-1] dh dw + 1, H W\")\n",
    "\n",
    "bc_flat = bc.permute(0, 2, 1).flatten(end_dim=1)\n",
    "assert_shape(bc_flat, \"n H W, C[-1] dh dw\")"
   ]
  },
  {
   "cell_type": "markdown",
   "metadata": {},
   "source": [
    "$B^c \\in (n, C[-1] d d, HW)$\n",
    "\n",
    "$B^c_F \\in (n HW, C[-1] d d)$"
   ]
  },
  {
   "cell_type": "code",
   "execution_count": null,
   "metadata": {},
   "outputs": [],
   "source": [
    "bt_einsum = torch.einsum(\"ial, jel -> ijea\", bc, t)\n",
    "\n",
    "bt_b = torch.einsum(\"ial, jel -> ijea\", bc_b, t)\n",
    "assert_shape(bt_b, \"n, H[+1] W[+1], dh[+1] dw[+1], C[-1] dh dw + 1\")\n",
    "\n",
    "bt_manual = torch.zeros((n, h2 * w2, hd2 * wd2, c0 * hd1 * wd1))\n",
    "for i in range(n):\n",
    "    for j in range(h2 * w2):\n",
    "        bt_manual[i, j] = t[j] @ bc[i].detach().T\n",
    "\n",
    "assert_close(bt_einsum, bt_manual, atol=1e-6)\n",
    "bt = bt_einsum\n",
    "\n",
    "assert_shape(bt, \"n, H[+1] W[+1], dh[+1] dw[+1], C[-1] dh dw\")"
   ]
  },
  {
   "cell_type": "markdown",
   "metadata": {},
   "source": [
    "$(B^t)^{imba} = (B^c)^{ial} T_{mbl} \\in (n, H[+1]W[+1], d[+1]d[+1], C[-1]dd)$\n",
    "\n",
    "$(B^t)[i, j] =  T[j] \\times (B^c)[i]^T \\in (d[+1]d[+1], C[-1]dd)$"
   ]
  },
  {
   "cell_type": "code",
   "execution_count": null,
   "metadata": {},
   "outputs": [],
   "source": [
    "y_manual = torch.zeros((n, c2, h2 * w2))\n",
    "\n",
    "alpha_flat = conv1.weight.flatten(start_dim=1).transpose(0, 1)\n",
    "assert alpha_flat.shape == (c0 * hd1 * wd1, c1)\n",
    "\n",
    "omega_flat = conv2.weight.flatten(start_dim=2)\n",
    "assert omega_flat.shape == (c2, c1, hd2 * wd2)\n",
    "\n",
    "for i in range(n):\n",
    "    for m in range(c2):\n",
    "        for j in range(h2 * w2):\n",
    "            for k in range(c1):\n",
    "                # equivalent to omega_flat[m, k].T @ bt[i, j] @ alpha_flat[:, k].T\n",
    "                # as omega_flat[m, k] and alpha_flat[:, k] are vectors in the paper\n",
    "                y_manual[i, m, j] += omega_flat[m, k] @ bt[i, j] @ alpha_flat[:, k]\n",
    "\n",
    "assert_close(y_manual, y_th.flatten(start_dim=-2), atol=1e-6)\n",
    "\n",
    "y_manual_einsum = torch.einsum(\"mke, ijea, ak -> imj\", omega_flat, bt, alpha_flat)\n",
    "\n",
    "assert_close(y_manual_einsum, y_th.flatten(start_dim=-2), atol=1e-6)\n",
    "\n",
    "assert omega_flat.shape == (c2, c1, hd2 * wd2)  # m k e\n",
    "assert t.shape == (h2 * w2, hd2 * wd2, h1 * w1)  # i a l\n",
    "assert bc.shape == (n, c0 * hd1 * wd1, h1 * w1)  # j e l\n",
    "assert alpha_flat.shape == (c0 * hd1 * wd1, c1)  # a k\n",
    "\n",
    "y_manual_full_einsum = torch.einsum(\"mke, jel, ial, ak -> imj\", omega_flat, t, bc, alpha_flat)\n",
    "\n",
    "assert_close(y_th.flatten(start_dim=-2), y_manual_full_einsum, atol=1e-6)"
   ]
  },
  {
   "cell_type": "markdown",
   "metadata": {},
   "source": [
    "$Conv_{\\Omega}(Conv_{\\Alpha}(B))[i, m, j] = \\sum_{k=1}^{C} \\Omega[m, k]_F^T (B^t)[i, j]^T A[k]_F$ \n",
    "\n",
    "$Conv_{\\Omega}(Conv_{\\Alpha}(B))^{i  m j} = \\Omega^{m k e} (B^t)^{i j e a} A_F^{a k}$\n",
    "\n",
    "$Conv_{\\Omega}(Conv_{\\Alpha}(B))^{i  m j} = \\Omega^{m k e} T^{j e l} (B^c)^{i a l} A_F^{a k}$"
   ]
  },
  {
   "cell_type": "markdown",
   "metadata": {},
   "source": [
    "### Proof checking"
   ]
  },
  {
   "cell_type": "markdown",
   "metadata": {},
   "source": [
    "#### Scalar product"
   ]
  },
  {
   "cell_type": "code",
   "execution_count": null,
   "metadata": {},
   "outputs": [],
   "source": [
    "assert y_goal_flat.shape == (n, c2, h2 * w2)\n",
    "\n",
    "\n",
    "l_value_th = torch.sum(y_goal.flatten() * y_th.flatten())\n",
    "l_value_th_einsum = torch.einsum(\"imxy, imxy ->\", y_goal, y_th)\n",
    "assert_close(l_value_th, l_value_th_einsum, atol=1e-6)"
   ]
  },
  {
   "attachments": {
    "image.png": {
     "image/png": "[encoded data removed]"
    }
   },
   "cell_type": "markdown",
   "metadata": {},
   "source": [
    "![image.png](attachment:image.png)"
   ]
  },
  {
   "cell_type": "code",
   "execution_count": null,
   "metadata": {},
   "outputs": [],
   "source": [
    "l_value = torch.tensor(0.)\n",
    "\n",
    "for m in range(c2):\n",
    "    for i in range(n):\n",
    "        for j in range(h2 * w2):\n",
    "            for k in range(c1):\n",
    "                l_value += omega_flat[m, k] @ bt[i, j] @ alpha_flat[:, k] * y_goal_flat[i, m, j]\n",
    "\n",
    "\n",
    "assert_close(l_value, l_value_th, atol=1e-5)\n",
    "\n",
    "l_value_einsum = torch.einsum(\"imj, mke, ijea, ak ->\", y_goal_flat, omega_flat, bt, alpha_flat)\n",
    "assert_close(l_value_einsum, l_value_th, atol=1e-6)"
   ]
  },
  {
   "attachments": {
    "image-2.png": {
     "image/png": "[encoded data removed]"
    },
    "image.png": {
     "image/png": "[encoded data removed]"
    }
   },
   "cell_type": "markdown",
   "metadata": {},
   "source": [
    "![image.png](attachment:image.png)\n",
    "\n",
    "![image-2.png](attachment:image-2.png)"
   ]
  },
  {
   "cell_type": "code",
   "execution_count": null,
   "metadata": {},
   "outputs": [],
   "source": [
    "omega_full_flat = omega_flat.permute(1, 0, 2).flatten(start_dim=1)\n",
    "assert omega_full_flat.shape == (c1, c2 * hd2 * wd2)\n",
    "\n",
    "alpha_omega = alpha_flat @ omega_full_flat\n",
    "assert alpha_omega.shape == (c0 * hd1 * wd1, c2 * hd2 * wd2)"
   ]
  },
  {
   "cell_type": "code",
   "execution_count": null,
   "metadata": {},
   "outputs": [],
   "source": [
    "assert_shape(bt, \"n, H[+1] W[+1], dh[+1] dw[+1], C[-1] dh dw\")\n",
    "assert_shape(y_goal_flat, \"n, C[+1], H[+1] W[+1]\")\n",
    "\n",
    "tensor_m = torch.einsum(\"ixab, icx -> bca\", bt, y_goal_flat)\n",
    "assert_shape(tensor_m, \"C[-1] dh dw, C[+1], dh[+1] dw[+1]\")\n",
    "\n",
    "tensor_m_b = torch.einsum(\"ixab, icx -> bca\", bt_b, y_goal_flat)\n",
    "assert_shape(tensor_m_b, \"C[-1] dh dw + 1, C[+1], dh[+1] dw[+1]\")\n",
    "\n",
    "m_matrice = tensor_m.flatten(start_dim=1)\n",
    "assert m_matrice.shape == (c0 * hd1 * wd1, c2 * hd2 * wd2)\n",
    "\n",
    "m_paper = torch.zeros((c0 * hd1 * wd1, c2 * hd2 * wd2))\n",
    "for c in range(c2):\n",
    "    idx = c * hd2 * wd2\n",
    "    for i in range(n):\n",
    "        for j in range(h2 * w2):\n",
    "            m_paper[:, idx:idx + hd2 * wd2] += y_goal_flat[i, c, j] * bt[i, j].T\n",
    "\n",
    "assert_close(m_matrice, m_paper, atol=1e-5) \n",
    "\n",
    "l_paper_end = torch_scalar_product(alpha_omega, m_matrice)"
   ]
  },
  {
   "attachments": {
    "image.png": {
     "image/png": "[encoded data removed]"
    }
   },
   "cell_type": "markdown",
   "metadata": {},
   "source": [
    "![image.png](attachment:image.png)"
   ]
  },
  {
   "cell_type": "markdown",
   "metadata": {},
   "source": [
    "$\\langle \\hat{V}(A, \\Omega), V \\rangle = \\langle A_F \\Omega_F, N \\rangle$"
   ]
  },
  {
   "cell_type": "markdown",
   "metadata": {},
   "source": [
    "#### Scalar product"
   ]
  },
  {
   "cell_type": "code",
   "execution_count": null,
   "metadata": {},
   "outputs": [],
   "source": [
    "q_value_th = torch.sum(y_th ** 2)\n",
    "\n",
    "q_value = torch.tensor(0.)\n",
    "\n",
    "for m in range(c2):\n",
    "    for i in range(n):\n",
    "        for j in range(h2 * w2):\n",
    "            q = torch.tensor(0.)\n",
    "            for k in range(c1):\n",
    "                q += omega_flat[m, k] @ bt[i, j] @ alpha_flat[:, k]\n",
    "            q_value += q ** 2\n",
    "\n",
    "assert_close(q_value, q_value_th, atol=1e-6)"
   ]
  },
  {
   "attachments": {
    "image.png": {
     "image/png": "[encoded data removed]"
    }
   },
   "cell_type": "markdown",
   "metadata": {},
   "source": [
    "![image.png](attachment:image.png)"
   ]
  },
  {
   "cell_type": "code",
   "execution_count": null,
   "metadata": {},
   "outputs": [],
   "source": [
    "q_value_tr = torch.tensor(0.)\n",
    "\n",
    "for m in range(c2):\n",
    "    w = alpha_flat @ omega_flat[m]\n",
    "    assert w.shape == (c0 * hd1 * wd1, hd2 * wd2)\n",
    "    for i in range(n):\n",
    "        for j in range(h2 * w2):\n",
    "            q_value_tr += torch.trace(bt[i, j] @ w) ** 2\n",
    "\n",
    "assert_close(q_value_tr, q_value_th, atol=1e-6)"
   ]
  },
  {
   "attachments": {
    "image.png": {
     "image/png": "[encoded data removed]"
    }
   },
   "cell_type": "markdown",
   "metadata": {},
   "source": [
    "![image.png](attachment:image.png)"
   ]
  },
  {
   "cell_type": "code",
   "execution_count": null,
   "metadata": {},
   "outputs": [],
   "source": [
    "s_paper = torch.zeros((c0 * hd1 * wd1, c0 * hd1 * wd1), dtype=torch.float64)\n",
    "\n",
    "mul_facteur = hd2 * wd2\n",
    "# mul_facteur = c1\n",
    "\n",
    "for i in range(n):\n",
    "    for j in range(h2 * w2):\n",
    "        s_paper += bt[i, j].T @ bt[i, j]\n",
    "\n",
    "\n",
    "\n",
    "s_paper *= mul_facteur\n",
    "\n",
    "\n",
    "bt64 = bt.to(torch.float64)\n",
    "s_einsum = mul_facteur * torch.einsum(\"ijea, ijeb -> ab\", bt64, bt64)\n",
    "assert_shape(s_einsum, \"C[-1] dh dw, C[-1] dh dw\")\n",
    "\n",
    "sb = mul_facteur * torch.einsum(\"ijea, ijeb -> ab\", bt_b, bt_b)\n",
    "assert_shape(sb, \"C[-1] dh dw + 1, C[-1] dh dw + 1\")\n",
    "\n",
    "assert_close(s_einsum, s_paper, atol=1e-4)\n",
    "s = s_einsum.to(torch.float32)"
   ]
  },
  {
   "attachments": {
    "image.png": {
     "image/png": "[encoded data removed]"
    }
   },
   "cell_type": "markdown",
   "metadata": {},
   "source": [
    "![image.png](attachment:image.png)"
   ]
  },
  {
   "cell_type": "code",
   "execution_count": null,
   "metadata": {},
   "outputs": [],
   "source": [
    "q_maj = torch_scalar_product(alpha_omega, s @ alpha_omega)\n",
    "\n",
    "assert q_maj >= q_value_th\n",
    "\n",
    "f\"Qmax / Q = {q_maj / q_value_th:.3e} (Qmax = {q_maj.item(): .3e}, Q = {q_value_th.item(): .3e})\""
   ]
  },
  {
   "cell_type": "markdown",
   "metadata": {},
   "source": [
    "### One pass"
   ]
  },
  {
   "cell_type": "code",
   "execution_count": null,
   "metadata": {},
   "outputs": [],
   "source": [
    "y_goal_proj_th = y_goal - conv_natural_gradient(y_inter_th)\n",
    "y_goal_proj_th_flat = y_goal_proj_th.flatten(start_dim=-2)\n",
    "assert_shape(y_goal_proj_th_flat, \"n, C[+1], H[+1] W[+1]\")\n",
    "\n",
    "assert_shape(bt, \"n, H[+1] W[+1], dh[+1] dw[+1], C[-1] dh dw\")\n",
    "\n",
    "m_proj_th = torch.einsum(\"ixab, icx -> bca\", bt, y_goal_proj_th_flat)\n",
    "assert_shape(m_proj_th, \"C[-1] dh dw, C[+1], dh[+1] dw[+1]\")"
   ]
  },
  {
   "cell_type": "code",
   "execution_count": null,
   "metadata": {},
   "outputs": [],
   "source": [
    "dw_star_th = conv_natural_gradient.weight.flatten(start_dim=2) \n",
    "assert_shape(dw_star_th, \"C[+1], C, dh[+1] dw[+1]\")\n",
    "dw_star_th_mat = dw_star_th.flatten(start_dim=1)\n",
    "assert_shape(dw_star_th_mat, \"C[+1], C dh[+1] dw[+1]\")\n",
    "\n",
    "dw_star_b_th = convb_natural_gradient.weight.flatten(start_dim=1)\n",
    "assert_shape(dw_star_b_th, \"C[+1], C dh[+1] dw[+1]\")\n",
    "dw_star_b_th = torch.cat([dw_star_b_th, convb_natural_gradient.bias[:, None]], dim=1)\n",
    "assert_shape(dw_star_b_th, \"C[+1], C dh[+1] dw[+1] + 1\")"
   ]
  },
  {
   "cell_type": "code",
   "execution_count": null,
   "metadata": {},
   "outputs": [],
   "source": [
    "assert_shape(y_goal_flat, \"n, C[+1], H[+1] W[+1]\")\n",
    "assert_shape(bc_inter, \"n, C dh[+1] dw[+1], H[+1] W[+1]\")\n",
    "y_goal_proj_einsum = y_goal_flat - torch.einsum(\"iex, ce -> icx\", bc_inter, dw_star_th_mat)\n",
    "assert_shape(y_goal_proj_einsum, \"n, C[+1], H[+1] W[+1]\")"
   ]
  },
  {
   "cell_type": "code",
   "execution_count": null,
   "metadata": {},
   "outputs": [],
   "source": [
    "tensor_m_m2 = torch.einsum(\"ixab, icx -> bca\", bt, y_goal_flat)\n",
    "assert_shape(tensor_m_m2, \"C[-1] dh dw, C[+1], dh[+1] dw[+1]\")\n",
    "\n",
    "\n",
    "tensor_m_m2_b = torch.einsum(\"ixab, icx -> bca\", bt_b, y_goal_flat)\n",
    "assert_shape(tensor_m_m2_b, \"C[-1] dh dw + 1, C[+1], dh[+1] dw[+1]\")"
   ]
  },
  {
   "cell_type": "code",
   "execution_count": null,
   "metadata": {},
   "outputs": [],
   "source": [
    "assert_shape(bt, \"n, H[+1] W[+1], dh[+1] dw[+1], C[-1] dh dw\")\n",
    "assert_shape(bc_inter, \"n, C dh[+1] dw[+1], H[+1] W[+1]\")\n",
    "\n",
    "tensor_cross_cov = torch.einsum(\"ixab, iex -> abe\", bt, bc_inter)\n",
    "assert_shape(tensor_cross_cov, \"dh[+1] dw[+1], C[-1] dh dw, C dh[+1] dw[+1]\")\n",
    "\n",
    "assert_shape(bt_b, \"n, H[+1] W[+1], dh[+1] dw[+1], C[-1] dh dw + 1\")\n",
    "assert_shape(bc_b_inter, \"n, C dh[+1] dw[+1] + 1, H[+1] W[+1]\")\n",
    "tensor_cross_cov_b = torch.einsum(\"ixab, iex -> abe\", bt_b, bc_b_inter)\n",
    "assert_shape(tensor_cross_cov_b, \"dh[+1] dw[+1], C[-1] dh dw + 1, C dh[+1] dw[+1] + 1\")  # WARNING: +1 twice"
   ]
  },
  {
   "cell_type": "code",
   "execution_count": null,
   "metadata": {},
   "outputs": [],
   "source": [
    "neg_term = torch.einsum(\"abe, ce -> bca\", tensor_cross_cov, dw_star_th_mat)\n",
    "assert_shape(neg_term, \"C[-1] dh dw, C[+1], dh[+1] dw[+1]\")\n",
    "\n",
    "neg_term_b = torch.einsum(\"abe, ce -> bca\", tensor_cross_cov_b, dw_star_b_th)\n",
    "assert_shape(neg_term_b, \"C[-1] dh dw + 1, C[+1], dh[+1] dw[+1]\")"
   ]
  },
  {
   "cell_type": "code",
   "execution_count": null,
   "metadata": {},
   "outputs": [],
   "source": [
    "assert_shape(neg_term, \"C[-1] dh dw, C[+1], dh[+1] dw[+1]\")\n",
    "assert_shape(tensor_m_m2, \"C[-1] dh dw, C[+1], dh[+1] dw[+1]\")\n",
    "m_proj = tensor_m_m2 - neg_term\n",
    "assert_shape(m_proj, \"C[-1] dh dw, C[+1], dh[+1] dw[+1]\")\n",
    "assert_close(m_proj, m_proj_th, atol=1e-5)\n",
    "\n",
    "m_proj_b = tensor_m_m2_b - neg_term_b\n",
    "assert_shape(m_proj_b, \"C[-1] dh dw + 1, C[+1], dh[+1] dw[+1]\")"
   ]
  },
  {
   "cell_type": "markdown",
   "metadata": {},
   "source": [
    "### Calcul exact"
   ]
  },
  {
   "cell_type": "code",
   "execution_count": null,
   "metadata": {},
   "outputs": [],
   "source": [
    "alpha_omega = torch.einsum(\"ka, mke -> mea\", alpha_flat, omega_flat)\n",
    "assert alpha_omega.shape == (c2, hd2 * wd2, c0 * hd1 * wd1)\n",
    "\n",
    "alpha_omega_matrice = alpha_omega.flatten(end_dim=1)\n",
    "assert alpha_omega_matrice.shape == (c2 * hd2 * wd2, c0 * hd1 * wd1)\n",
    "\n",
    "alpha_omega_matrice_exact = alpha_omega.flatten(start_dim=1)\n",
    "assert alpha_omega_matrice_exact.shape == (c2, hd2 * wd2 * c0 * hd1 * wd1)"
   ]
  },
  {
   "cell_type": "code",
   "execution_count": null,
   "metadata": {},
   "outputs": [],
   "source": [
    "m_matrice_exact = tensor_m.flatten(start_dim=1)\n",
    "assert m_matrice_exact.shape == (c2, hd2 * wd2 * c0 * hd1 * wd1)"
   ]
  },
  {
   "cell_type": "code",
   "execution_count": null,
   "metadata": {},
   "outputs": [],
   "source": [
    "l_value_scalar = torch.sum(m * alpha_omega)\n",
    "\n",
    "l_value_mat = torch.trace(m_matrice @ alpha_omega_matrice.T)\n",
    "\n",
    "l_value_exact = torch.trace(m_matrice_exact @ alpha_omega_matrice_exact.T)\n",
    "\n",
    "assert_close(l_value_mat, l_value_th, atol=1e-6)\n",
    "assert_close(l_value_exact, l_value_th, atol=1e-6)\n",
    "assert_close(l_value_scalar, l_value_th, atol=1e-6)"
   ]
  },
  {
   "cell_type": "code",
   "execution_count": null,
   "metadata": {},
   "outputs": [],
   "source": [
    "assert_close(q_value - 2 * l_value + torch.sum((y_goal) ** 2), error_th, atol=1e-6)"
   ]
  },
  {
   "cell_type": "code",
   "execution_count": null,
   "metadata": {},
   "outputs": [],
   "source": [
    "assert bt.shape == (n, h2 * w2, hd2 * wd2, c0 * hd1 * wd1)\n",
    "s = torch.einsum(\"ijea, ijfb -> eafb\", bt, bt)\n",
    "assert s.shape == (hd2 * wd2, c0 * hd1 * wd1, hd2 * wd2, c0 * hd1 * wd1)"
   ]
  },
  {
   "cell_type": "code",
   "execution_count": null,
   "metadata": {},
   "outputs": [],
   "source": [
    "q_value_scalar = torch.einsum(\"mea, eafb, mfb ->\", alpha_omega, s, alpha_omega)\n",
    "\n",
    "assert_close(q_value_scalar, q_value_th, atol=1e-6)"
   ]
  },
  {
   "cell_type": "code",
   "execution_count": null,
   "metadata": {},
   "outputs": [],
   "source": [
    "s_matrice_exact = s.flatten(start_dim=2).flatten(end_dim=1)\n",
    "assert s_matrice_exact.shape == (hd2 * wd2 * c0 * hd1 * wd1, hd2 * wd2 * c0 * hd1 * wd1)"
   ]
  },
  {
   "cell_type": "code",
   "execution_count": null,
   "metadata": {},
   "outputs": [],
   "source": [
    "q_value_exact = torch.trace(alpha_omega_matrice_exact @ s_matrice_exact @ alpha_omega_matrice_exact.T)\n",
    "\n",
    "assert_close(q_value_exact, q_value_th, atol=1e-6)"
   ]
  },
  {
   "cell_type": "code",
   "execution_count": null,
   "metadata": {},
   "outputs": [],
   "source": []
  }
 ],
 "metadata": {
  "kernelspec": {
   "display_name": "CONDA_3_11",
   "language": "python",
   "name": "python3"
  },
  "language_info": {
   "codemirror_mode": {
    "name": "ipython",
    "version": 3
   },
   "file_extension": ".py",
   "mimetype": "text/x-python",
   "name": "python",
   "nbconvert_exporter": "python",
   "pygments_lexer": "ipython3",
   "version": "3.11.8"
  }
 },
 "nbformat": 4,
 "nbformat_minor": 2
}
